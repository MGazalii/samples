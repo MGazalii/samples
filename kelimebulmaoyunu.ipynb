{
 "cells": [
  {
   "cell_type": "code",
   "execution_count": null,
   "id": "a847c151",
   "metadata": {},
   "outputs": [],
   "source": [
    "def vocab():\n",
    "    \n",
    "    kelime_listesi = [\"armut\",\"avize\",\"baraj\",\"banka\",\"bıçak\",\"ceviz\",\"çorba\",\"kalem\",\"silgi\",\"kitap\",\"makas\",\n",
    "                  \"perde\",\"çiçek\",\"saksı\",\"toprak\",\"arslan\",\"mendil\",\"defter\",\"klavye\",\"mantar\",\"adaptör\",\n",
    "                  \"agresif\",\"biberon\",\"çingene\",\"eğitmen\",\"harmoni\",\"belgesel\",\"çikolata\",\"diyagram\",\"istanbul\",\n",
    "                  \"kimyasal\", \"lacivert\", \"maksimum\", \"pankreas\", \"telaffuz\"]\n",
    "    \n",
    "    word_dict = {}\n",
    "    \n",
    "    for word in kelime_listesi:\n",
    "        l = len(word)\n",
    "        if l in word_dict:\n",
    "            word_dict[l].append(word)\n",
    "        else:\n",
    "            word_dict[l] = [word]\n",
    "    return word_dict"
   ]
  },
  {
   "cell_type": "code",
   "execution_count": null,
   "id": "0f57d0e4",
   "metadata": {},
   "outputs": [],
   "source": [
    "def find_word(tahmin, kelime, starred):\n",
    "    flag = False\n",
    "    temp = \"\"\n",
    "    for i in range(len(kelime)):\n",
    "        if tahmin == kelime[i]:\n",
    "            temp += tahmin\n",
    "            flag = True\n",
    "        else:\n",
    "            temp += starred[i]\n",
    "    print(temp)\n",
    "    return temp, flag"
   ]
  },
  {
   "cell_type": "code",
   "execution_count": null,
   "id": "677f093b",
   "metadata": {},
   "outputs": [],
   "source": [
    "import random\n",
    "\n",
    "word_dict = vocab()\n",
    "\n",
    "n = input(\"Bulacağınız kelime haç harfli olsun? 5-6-7-8 \")\n",
    "kelime = random.choice(word_dict[int(n)])\n",
    "starred = \"*\"*len(kelime)\n",
    "print(\"Kelimeniz seçildi, tahminlere başlayabilirsiniz \")\n",
    "print(starred)\n",
    "\n",
    "kalan_hak = 10\n",
    "old_chars = []\n",
    "while kalan_hak > 0:\n",
    "    \n",
    "    tahmin = input(\"Kelimenin içinde olduğunu düşündüğünüz bir harf ya da kelimenin tamamını giriniz \")\n",
    "    if tahmin not in old_chars:\n",
    "        if len(tahmin) == 1:\n",
    "            starred, flag = find_word(tahmin, kelime, starred)    \n",
    "            if flag == False:\n",
    "                kalan_hak = kalan_hak - 1\n",
    "                print(\"Yanlış tahmin. Kalan hakkınız \", kalan_hak)\n",
    "            if starred == kelime:\n",
    "                print(\"Tebrikler, kelimeyi buldunuz! Kelimeniz:\", kelime)\n",
    "                print(\"Puanınız\", kalan_hak*10)\n",
    "                break\n",
    "        else:\n",
    "            if tahmin == kelime:\n",
    "                print(\"Tebrikler, kelimeyi buldunuz! Kelimeniz:\", kelime)\n",
    "                print(\"Puanınız\", kalan_hak*10)\n",
    "                break\n",
    "            else:\n",
    "                kalan_hak = kalan_hak - 1\n",
    "                print(\"Yanlış tahmin. Kalan hakkınız \", kalan_hak)\n",
    "        old_chars.append(tahmin)\n",
    "    else:\n",
    "        print(\"Bu harfi denediniz, başka bir harf deneyiniz\")"
   ]
  }
 ],
 "metadata": {
  "kernelspec": {
   "display_name": "Python 3 (ipykernel)",
   "language": "python",
   "name": "python3"
  },
  "language_info": {
   "codemirror_mode": {
    "name": "ipython",
    "version": 3
   },
   "file_extension": ".py",
   "mimetype": "text/x-python",
   "name": "python",
   "nbconvert_exporter": "python",
   "pygments_lexer": "ipython3",
   "version": "3.8.10"
  }
 },
 "nbformat": 4,
 "nbformat_minor": 5
}
